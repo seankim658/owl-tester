{
 "cells": [
  {
   "cell_type": "code",
   "execution_count": 4,
   "metadata": {},
   "outputs": [],
   "source": [
    "import rdflib \n",
    "from owlready2 import *\n",
    "import re "
   ]
  },
  {
   "cell_type": "markdown",
   "metadata": {},
   "source": [
    "# General Exploration"
   ]
  },
  {
   "cell_type": "code",
   "execution_count": 24,
   "metadata": {},
   "outputs": [],
   "source": [
    "def explore_classes(output_file: str, classes: list):\n",
    "    with open(output_file, 'w') as f:\n",
    "        for cls in classes:\n",
    "            f.write(f'CLASS: {cls}\\n')\n",
    "            f.write(f'\\tLABEL: {cls.label[0]}\\n')\n",
    "            f.write(f'\\tPARENT: {cls.is_a[0]}\\n')\n",
    "            f.write(f'\\tIRI: {cls.iri}\\n')\n",
    "            f.write(f'\\tANNOTATION(S):\\n')\n",
    "            for idx, annotation in enumerate(cls.comment):\n",
    "                f.write(f'\\t\\tAnnotation #{idx + 1}: {annotation}\\n')\n",
    "            f.write(f'\\n')\n",
    "\n",
    "def explore_properties(output_file: str, properties: list, property_type: str):\n",
    "    with open(output_file, 'w') as f:\n",
    "        for property in properties:\n",
    "            f.write(f'{property_type.upper()} PROPERTY: {property}\\n')\n",
    "            f.write(f'\\tLABEL: {property.label[0]}\\n')\n",
    "            f.write(f'\\tIRI: {property.iri}\\n\\n')"
   ]
  },
  {
   "cell_type": "markdown",
   "metadata": {},
   "source": [
    "# OBCI Owl\n"
   ]
  },
  {
   "cell_type": "markdown",
   "metadata": {},
   "source": [
    "## OwlReady2"
   ]
  },
  {
   "cell_type": "code",
   "execution_count": 5,
   "metadata": {},
   "outputs": [],
   "source": [
    "onto = get_ontology('./owl_files/obci.owl').load(format = 'rdfxml')"
   ]
  },
  {
   "cell_type": "markdown",
   "metadata": {},
   "source": [
    "### Exploring Classes"
   ]
  },
  {
   "cell_type": "code",
   "execution_count": 22,
   "metadata": {},
   "outputs": [
    {
     "name": "stdout",
     "output_type": "stream",
     "text": [
      "<class 'list'>\n"
     ]
    }
   ],
   "source": [
    "def get_id(cls): \n",
    "    match = re.search(r'\\d+$', cls.name)\n",
    "    return int(match.group()) if match else 0\n",
    "\n",
    "sorted_classes = sorted(onto.classes(), key = get_id)\n",
    "explore_classes(output_file = './output_files/obci_owl/classes.txt', classes = sorted_classes)"
   ]
  },
  {
   "cell_type": "markdown",
   "metadata": {},
   "source": [
    "### Ontology Properties"
   ]
  },
  {
   "cell_type": "code",
   "execution_count": 26,
   "metadata": {},
   "outputs": [],
   "source": [
    "explore_properties(output_file = './output_files/obci_owl/object_properties.txt', properties = onto.object_properties(), property_type = 'object')"
   ]
  },
  {
   "cell_type": "code",
   "execution_count": 27,
   "metadata": {},
   "outputs": [],
   "source": [
    "explore_properties(output_file = './output_files/obci_owl/data_properties.txt', properties = onto.data_properties(), property_type = 'data')"
   ]
  }
 ],
 "metadata": {
  "kernelspec": {
   "display_name": "Python 3",
   "language": "python",
   "name": "python3"
  },
  "language_info": {
   "codemirror_mode": {
    "name": "ipython",
    "version": 3
   },
   "file_extension": ".py",
   "mimetype": "text/x-python",
   "name": "python",
   "nbconvert_exporter": "python",
   "pygments_lexer": "ipython3",
   "version": "3.10.12"
  }
 },
 "nbformat": 4,
 "nbformat_minor": 2
}
