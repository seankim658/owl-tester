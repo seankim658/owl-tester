{
 "cells": [
  {
   "cell_type": "markdown",
   "metadata": {},
   "source": [
    "**THIS NOTEBOOK IS DEPRECATED**"
   ]
  },
  {
   "cell_type": "code",
   "execution_count": 1,
   "metadata": {},
   "outputs": [],
   "source": [
    "from owlready2 import *\n",
    "import re\n",
    "import functions as functions "
   ]
  },
  {
   "cell_type": "markdown",
   "metadata": {},
   "source": [
    "# OBCI Owl\n"
   ]
  },
  {
   "cell_type": "code",
   "execution_count": 3,
   "metadata": {},
   "outputs": [],
   "source": [
    "# for some reason this fails on first run, if you run it again it'll work properly, havne't looked into that yet\n",
    "obci_onto = get_ontology('../owl_files/obci.owl').load()"
   ]
  },
  {
   "cell_type": "markdown",
   "metadata": {},
   "source": [
    "## Classes"
   ]
  },
  {
   "cell_type": "code",
   "execution_count": 4,
   "metadata": {},
   "outputs": [],
   "source": [
    "def get_id(cls): \n",
    "    match = re.search(r'\\d+$', cls.name)\n",
    "    return int(match.group()) if match else 0\n",
    "\n",
    "sorted_classes = sorted(obci_onto.classes(), key = get_id)\n",
    "functions.or2_explore_classes(output_file = '../output_files/obci_owl/owlready2/classes.txt', classes = sorted_classes)\n",
    "functions.or2_explore_classes(output_file = '../output_files/obci_owl/owlready2/classes.csv', classes = sorted_classes)"
   ]
  },
  {
   "cell_type": "markdown",
   "metadata": {},
   "source": [
    "## Ontology Properties"
   ]
  },
  {
   "cell_type": "code",
   "execution_count": null,
   "metadata": {},
   "outputs": [],
   "source": [
    "# object properties\n",
    "functions.explore_properties(output_file = '../output_files/obci_owl/owlready2/object_properties.txt', properties = obci_onto.object_properties(), property_type = 'object')\n",
    "functions.explore_properties(output_file = '../output_files/obci_owl/owlready2/object_properties.csv', properties = obci_onto.object_properties(), property_type = 'object')"
   ]
  },
  {
   "cell_type": "code",
   "execution_count": 6,
   "metadata": {},
   "outputs": [],
   "source": [
    "# data properties \n",
    "functions.explore_properties(output_file = '../output_files/obci_owl/owlready2/data_properties.txt', properties = obci_onto.data_properties(), property_type = 'data')\n",
    "functions.explore_properties(output_file = '../output_files/obci_owl/owlready2/data_properties.csv', properties = obci_onto.data_properties(), property_type = 'data')"
   ]
  },
  {
   "cell_type": "code",
   "execution_count": 7,
   "metadata": {},
   "outputs": [],
   "source": [
    "# annotation properties\n",
    "functions.explore_properties(output_file = '../output_files/obci_owl/owlready2/annotation_properties.txt', properties = obci_onto.annotation_properties(), property_type = 'annotation')\n",
    "functions.explore_properties(output_file = '../output_files/obci_owl/owlready2/annotation_properties.csv', properties = obci_onto.annotation_properties(), property_type = 'annotation')"
   ]
  },
  {
   "cell_type": "code",
   "execution_count": 8,
   "metadata": {},
   "outputs": [],
   "source": [
    "# all properties\n",
    "functions.explore_properties(output_file = '../output_files/obci_owl/owlready2/properties.txt', properties = obci_onto.properties(), property_type = 'all')\n",
    "functions.explore_properties(output_file = '../output_files/obci_owl/owlready2/properties.csv', properties = obci_onto.properties(), property_type = 'all')\n"
   ]
  },
  {
   "cell_type": "markdown",
   "metadata": {},
   "source": [
    "## Individuals"
   ]
  },
  {
   "cell_type": "code",
   "execution_count": 9,
   "metadata": {},
   "outputs": [],
   "source": [
    "functions.explore_individuals(output_file = '../output_files/obci_owl/owlready2/individuals.txt', individuals = obci_onto.individuals())\n",
    "functions.explore_individuals(output_file = '../output_files/obci_owl/owlready2/individuals.csv', individuals = obci_onto.individuals())"
   ]
  },
  {
   "cell_type": "markdown",
   "metadata": {},
   "source": [
    "# DOID Owl\n"
   ]
  },
  {
   "cell_type": "code",
   "execution_count": 10,
   "metadata": {},
   "outputs": [],
   "source": [
    "doid_onto = get_ontology('../owl_files/doid.owl').load(format = 'rdfxml')"
   ]
  },
  {
   "cell_type": "markdown",
   "metadata": {},
   "source": [
    "## Classes"
   ]
  },
  {
   "cell_type": "code",
   "execution_count": 11,
   "metadata": {},
   "outputs": [],
   "source": [
    "functions.or2_explore_classes(output_file = '../output_files/doid_owl/owlready2/classes.txt', classes = doid_onto.classes())\n",
    "functions.or2_explore_classes(output_file = '../output_files/doid_owl/owlready2/classes.csv', classes = doid_onto.classes())"
   ]
  },
  {
   "cell_type": "markdown",
   "metadata": {},
   "source": [
    "## Ontology Properties"
   ]
  },
  {
   "cell_type": "code",
   "execution_count": 12,
   "metadata": {},
   "outputs": [],
   "source": [
    "# object properties\n",
    "functions.explore_properties(output_file = '../output_files/doid_owl/owlready2/object_properties.txt', properties = doid_onto.object_properties(), property_type = 'object')\n",
    "functions.explore_properties(output_file = '../output_files/doid_owl/owlready2/object_properties.csv', properties = doid_onto.object_properties(), property_type = 'object')"
   ]
  },
  {
   "cell_type": "code",
   "execution_count": 13,
   "metadata": {},
   "outputs": [],
   "source": [
    "# data properties \n",
    "functions.explore_properties(output_file = '../output_files/doid_owl/owlready2/data_properties.txt', properties = doid_onto.data_properties(), property_type = 'data')\n",
    "functions.explore_properties(output_file = '../output_files/doid_owl/owlready2/data_properties.csv', properties = doid_onto.data_properties(), property_type = 'data')"
   ]
  },
  {
   "cell_type": "code",
   "execution_count": 14,
   "metadata": {},
   "outputs": [],
   "source": [
    "# annotation properties \n",
    "functions.explore_properties(output_file = '../output_files/doid_owl/owlready2/annotation_properties.txt', properties = doid_onto.annotation_properties(), property_type = 'annotation')\n",
    "functions.explore_properties(output_file = '../output_files/doid_owl/owlready2/annotation_properties.csv', properties = doid_onto.annotation_properties(), property_type = 'annotation')"
   ]
  },
  {
   "cell_type": "code",
   "execution_count": 15,
   "metadata": {},
   "outputs": [],
   "source": [
    "# all properties \n",
    "functions.explore_properties(output_file = '../output_files/doid_owl/owlready2/properties.txt', properties = doid_onto.properties(), property_type = 'all')\n",
    "functions.explore_properties(output_file = '../output_files/doid_owl/owlready2/properties.csv', properties = doid_onto.properties(), property_type = 'all')"
   ]
  },
  {
   "cell_type": "markdown",
   "metadata": {},
   "source": [
    "## Individuals "
   ]
  },
  {
   "cell_type": "code",
   "execution_count": 16,
   "metadata": {},
   "outputs": [],
   "source": [
    "functions.explore_individuals(output_file = '../output_files/doid_owl/owlready2/individuals.txt', individuals = doid_onto.individuals())\n",
    "functions.explore_individuals(output_file = '../output_files/doid_owl/owlready2/individuals.csv', individuals = doid_onto.individuals())"
   ]
  },
  {
   "cell_type": "markdown",
   "metadata": {},
   "source": [
    "# GlyGen\n"
   ]
  },
  {
   "cell_type": "markdown",
   "metadata": {},
   "source": [
    "## OwlReady2"
   ]
  },
  {
   "cell_type": "code",
   "execution_count": 17,
   "metadata": {},
   "outputs": [],
   "source": [
    "glygen_onto = get_ontology('../owl_files/glygen.owl').load()"
   ]
  },
  {
   "cell_type": "markdown",
   "metadata": {},
   "source": [
    "## Classes"
   ]
  },
  {
   "cell_type": "code",
   "execution_count": 18,
   "metadata": {},
   "outputs": [],
   "source": [
    "functions.or2_explore_classes(output_file = '../output_files/glygen_owl/owlready2/classes.txt', classes = glygen_onto.classes())\n",
    "functions.or2_explore_classes(output_file = '../output_files/glygen_owl/owlready2/classes.csv', classes = glygen_onto.classes())"
   ]
  },
  {
   "cell_type": "markdown",
   "metadata": {},
   "source": [
    "## Ontology Properties"
   ]
  },
  {
   "cell_type": "code",
   "execution_count": null,
   "metadata": {},
   "outputs": [],
   "source": [
    "# object properties\n",
    "functions.explore_properties(output_file = '../output_files/glygen_owl/owlready2/object_properties.txt', properties = glygen_onto.object_properties(), property_type = 'object')\n",
    "functions.explore_properties(output_file = '../output_files/glygen_owl/owlready2/object_properties.csv', properties = glygen_onto.object_properties(), property_type = 'object')"
   ]
  },
  {
   "cell_type": "code",
   "execution_count": null,
   "metadata": {},
   "outputs": [],
   "source": [
    "# data properties \n",
    "functions.explore_properties(output_file = '../output_files/glygen_owl/owlready2/data_properties.txt', properties = glygen_onto.data_properties(), property_type = 'data')\n",
    "functions.explore_properties(output_file = '../output_files/glygen_owl/owlready2/data_properties.csv', properties = glygen_onto.data_properties(), property_type = 'data')"
   ]
  },
  {
   "cell_type": "code",
   "execution_count": null,
   "metadata": {},
   "outputs": [],
   "source": [
    "# annotation properties \n",
    "functions.explore_properties(output_file = '../output_files/glygen_owl/owlready2/annotation_properties.txt', properties = glygen_onto.annotation_properties(), property_type = 'annotation')\n",
    "functions.explore_properties(output_file = '../output_files/glygen_owl/owlready2/annotation_properties.csv', properties = glygen_onto.annotation_properties(), property_type = 'annotation')"
   ]
  },
  {
   "cell_type": "code",
   "execution_count": null,
   "metadata": {},
   "outputs": [],
   "source": [
    "# all properties \n",
    "functions.explore_properties(output_file = '../output_files/glygen_owl/owlready2/properties.txt', properties = glygen_onto.properties(), property_type = 'all')\n",
    "functions.explore_properties(output_file = '../output_files/glygen_owl/owlready2/properties.csv', properties = glygen_onto.properties(), property_type = 'all')"
   ]
  },
  {
   "cell_type": "markdown",
   "metadata": {},
   "source": [
    "## Individuals"
   ]
  },
  {
   "cell_type": "code",
   "execution_count": null,
   "metadata": {},
   "outputs": [],
   "source": [
    "functions.explore_individuals(output_file = '../output_files/glygen_owl/owlready2/individuals.txt', individuals = glygen_onto.individuals())\n",
    "functions.explore_individuals(output_file = '../output_files/glygen_owl/owlready2/individuals.csv', individuals = glygen_onto.individuals())"
   ]
  }
 ],
 "metadata": {
  "kernelspec": {
   "display_name": "Python 3",
   "language": "python",
   "name": "python3"
  },
  "language_info": {
   "codemirror_mode": {
    "name": "ipython",
    "version": 3
   },
   "file_extension": ".py",
   "mimetype": "text/x-python",
   "name": "python",
   "nbconvert_exporter": "python",
   "pygments_lexer": "ipython3",
   "version": "3.10.12"
  }
 },
 "nbformat": 4,
 "nbformat_minor": 2
}
