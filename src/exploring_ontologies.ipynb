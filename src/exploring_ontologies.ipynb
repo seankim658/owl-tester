{
 "cells": [
  {
   "cell_type": "code",
   "execution_count": 1,
   "metadata": {},
   "outputs": [],
   "source": [
    "import rdflib \n",
    "from owlready2 import *\n",
    "import re\n",
    "import functions as functions "
   ]
  },
  {
   "cell_type": "markdown",
   "metadata": {},
   "source": [
    "# OBCI Owl\n"
   ]
  },
  {
   "cell_type": "markdown",
   "metadata": {},
   "source": [
    "## OwlReady2"
   ]
  },
  {
   "cell_type": "code",
   "execution_count": 3,
   "metadata": {},
   "outputs": [],
   "source": [
    "# for some reason this fails on first run, if you run it again it'll work properly, havne't looked into that yet\n",
    "obci_onto = get_ontology('../owl_files/obci.owl').load(format = 'rdfxml')"
   ]
  },
  {
   "cell_type": "markdown",
   "metadata": {},
   "source": [
    "### Classes"
   ]
  },
  {
   "cell_type": "code",
   "execution_count": 4,
   "metadata": {},
   "outputs": [],
   "source": [
    "def get_id(cls): \n",
    "    match = re.search(r'\\d+$', cls.name)\n",
    "    return int(match.group()) if match else 0\n",
    "\n",
    "sorted_classes = sorted(obci_onto.classes(), key = get_id)\n",
    "functions.or2_explore_classes(output_file = '../output_files/obci_owl/classes.txt', classes = sorted_classes)\n",
    "functions.or2_explore_classes(output_file = '../output_files/obci_owl/classes.csv', classes = sorted_classes)"
   ]
  },
  {
   "cell_type": "markdown",
   "metadata": {},
   "source": [
    "### Ontology Properties"
   ]
  },
  {
   "cell_type": "code",
   "execution_count": 5,
   "metadata": {},
   "outputs": [],
   "source": [
    "# object properties\n",
    "functions.explore_properties(output_file = '../output_files/obci_owl/object_properties.txt', properties = obci_onto.object_properties(), property_type = 'object')\n",
    "functions.explore_properties(output_file = '../output_files/obci_owl/object_properties.csv', properties = obci_onto.object_properties(), property_type = 'object')"
   ]
  },
  {
   "cell_type": "code",
   "execution_count": 6,
   "metadata": {},
   "outputs": [],
   "source": [
    "# data properties \n",
    "functions.explore_properties(output_file = '../output_files/obci_owl/data_properties.txt', properties = obci_onto.data_properties(), property_type = 'data')\n",
    "functions.explore_properties(output_file = '../output_files/obci_owl/data_properties.csv', properties = obci_onto.data_properties(), property_type = 'data')"
   ]
  },
  {
   "cell_type": "code",
   "execution_count": 7,
   "metadata": {},
   "outputs": [],
   "source": [
    "# annotation properties\n",
    "functions.explore_properties(output_file = '../output_files/obci_owl/annotation_properties.txt', properties = obci_onto.annotation_properties(), property_type = 'annotation')\n",
    "functions.explore_properties(output_file = '../output_files/obci_owl/annotation_properties.csv', properties = obci_onto.annotation_properties(), property_type = 'annotation')"
   ]
  },
  {
   "cell_type": "code",
   "execution_count": 7,
   "metadata": {},
   "outputs": [],
   "source": [
    "# all properties\n",
    "functions.explore_properties(output_file = '../output_files/obci_owl/properties.txt', properties = obci_onto.properties(), property_type = 'all')\n",
    "functions.explore_properties(output_file = '../output_files/obci_owl/properties.csv', properties = obci_onto.properties(), property_type = 'all')\n"
   ]
  },
  {
   "cell_type": "markdown",
   "metadata": {},
   "source": [
    "### Individuals"
   ]
  },
  {
   "cell_type": "code",
   "execution_count": 11,
   "metadata": {},
   "outputs": [
    {
     "name": "stdout",
     "output_type": "stream",
     "text": [
      "obo.OBCI_8000002\n",
      "['INDIRECT_get_properties', '__class__', '__classcell__', '__delattr__', '__dict__', '__dir__', '__doc__', '__eq__', '__format__', '__ge__', '__getattr__', '__getattribute__', '__gt__', '__hash__', '__init__', '__init_subclass__', '__le__', '__lt__', '__module__', '__ne__', '__new__', '__reduce__', '__reduce_ex__', '__repr__', '__setattr__', '__sizeof__', '__str__', '__subclasshook__', '__weakref__', '_equivalent_to', '_get_instance_possible_relations', '_get_is_instance_of', '_instance_equivalent_to_changed', '_instance_is_a_changed', '_name', '_set_is_instance_of', 'differents', 'generate_default_name', 'get_equivalent_to', 'get_inverse_properties', 'get_iri', 'get_name', 'get_properties', 'hasOBONamespace', 'id', 'iri', 'is_a', 'is_instance_of', 'label', 'name', 'namespace', 'set_equivalent_to', 'set_iri', 'set_name', 'storid']\n",
      "obo.OBCI_8000008\n",
      "['INDIRECT_get_properties', '__class__', '__classcell__', '__delattr__', '__dict__', '__dir__', '__doc__', '__eq__', '__format__', '__ge__', '__getattr__', '__getattribute__', '__gt__', '__hash__', '__init__', '__init_subclass__', '__le__', '__lt__', '__module__', '__ne__', '__new__', '__reduce__', '__reduce_ex__', '__repr__', '__setattr__', '__sizeof__', '__str__', '__subclasshook__', '__weakref__', '_equivalent_to', '_get_instance_possible_relations', '_get_is_instance_of', '_instance_equivalent_to_changed', '_instance_is_a_changed', '_name', '_set_is_instance_of', 'differents', 'generate_default_name', 'get_equivalent_to', 'get_inverse_properties', 'get_iri', 'get_name', 'get_properties', 'hasOBONamespace', 'id', 'iri', 'is_a', 'is_instance_of', 'label', 'name', 'namespace', 'set_equivalent_to', 'set_iri', 'set_name', 'storid']\n",
      "obo.OBCI_8000003\n",
      "['INDIRECT_get_properties', '__class__', '__classcell__', '__delattr__', '__dict__', '__dir__', '__doc__', '__eq__', '__format__', '__ge__', '__getattr__', '__getattribute__', '__gt__', '__hash__', '__init__', '__init_subclass__', '__le__', '__lt__', '__module__', '__ne__', '__new__', '__reduce__', '__reduce_ex__', '__repr__', '__setattr__', '__sizeof__', '__str__', '__subclasshook__', '__weakref__', '_equivalent_to', '_get_instance_possible_relations', '_get_is_instance_of', '_instance_equivalent_to_changed', '_instance_is_a_changed', '_name', '_set_is_instance_of', 'differents', 'generate_default_name', 'get_equivalent_to', 'get_inverse_properties', 'get_iri', 'get_name', 'get_properties', 'hasOBONamespace', 'id', 'iri', 'is_a', 'is_instance_of', 'label', 'name', 'namespace', 'set_equivalent_to', 'set_iri', 'set_name', 'storid']\n",
      "obo.OBCI_8000006\n",
      "['INDIRECT_get_properties', '__class__', '__classcell__', '__delattr__', '__dict__', '__dir__', '__doc__', '__eq__', '__format__', '__ge__', '__getattr__', '__getattribute__', '__gt__', '__hash__', '__init__', '__init_subclass__', '__le__', '__lt__', '__module__', '__ne__', '__new__', '__reduce__', '__reduce_ex__', '__repr__', '__setattr__', '__sizeof__', '__str__', '__subclasshook__', '__weakref__', '_equivalent_to', '_get_instance_possible_relations', '_get_is_instance_of', '_instance_equivalent_to_changed', '_instance_is_a_changed', '_name', '_set_is_instance_of', 'differents', 'generate_default_name', 'get_equivalent_to', 'get_inverse_properties', 'get_iri', 'get_name', 'get_properties', 'hasOBONamespace', 'id', 'iri', 'is_a', 'is_instance_of', 'label', 'name', 'namespace', 'set_equivalent_to', 'set_iri', 'set_name', 'storid']\n",
      "obo.OBCI_8000005\n",
      "['INDIRECT_get_properties', '__class__', '__classcell__', '__delattr__', '__dict__', '__dir__', '__doc__', '__eq__', '__format__', '__ge__', '__getattr__', '__getattribute__', '__gt__', '__hash__', '__init__', '__init_subclass__', '__le__', '__lt__', '__module__', '__ne__', '__new__', '__reduce__', '__reduce_ex__', '__repr__', '__setattr__', '__sizeof__', '__str__', '__subclasshook__', '__weakref__', '_equivalent_to', '_get_instance_possible_relations', '_get_is_instance_of', '_instance_equivalent_to_changed', '_instance_is_a_changed', '_name', '_set_is_instance_of', 'differents', 'generate_default_name', 'get_equivalent_to', 'get_inverse_properties', 'get_iri', 'get_name', 'get_properties', 'hasOBONamespace', 'id', 'iri', 'is_a', 'is_instance_of', 'label', 'name', 'namespace', 'set_equivalent_to', 'set_iri', 'set_name', 'storid']\n",
      "obo.OBCI_8000009\n",
      "['INDIRECT_get_properties', '__class__', '__classcell__', '__delattr__', '__dict__', '__dir__', '__doc__', '__eq__', '__format__', '__ge__', '__getattr__', '__getattribute__', '__gt__', '__hash__', '__init__', '__init_subclass__', '__le__', '__lt__', '__module__', '__ne__', '__new__', '__reduce__', '__reduce_ex__', '__repr__', '__setattr__', '__sizeof__', '__str__', '__subclasshook__', '__weakref__', '_equivalent_to', '_get_instance_possible_relations', '_get_is_instance_of', '_instance_equivalent_to_changed', '_instance_is_a_changed', '_name', '_set_is_instance_of', 'differents', 'generate_default_name', 'get_equivalent_to', 'get_inverse_properties', 'get_iri', 'get_name', 'get_properties', 'hasOBONamespace', 'id', 'iri', 'is_a', 'is_instance_of', 'label', 'name', 'namespace', 'set_equivalent_to', 'set_iri', 'set_name', 'storid']\n",
      "obo.OBCI_8000004\n",
      "['INDIRECT_get_properties', '__class__', '__classcell__', '__delattr__', '__dict__', '__dir__', '__doc__', '__eq__', '__format__', '__ge__', '__getattr__', '__getattribute__', '__gt__', '__hash__', '__init__', '__init_subclass__', '__le__', '__lt__', '__module__', '__ne__', '__new__', '__reduce__', '__reduce_ex__', '__repr__', '__setattr__', '__sizeof__', '__str__', '__subclasshook__', '__weakref__', '_equivalent_to', '_get_instance_possible_relations', '_get_is_instance_of', '_instance_equivalent_to_changed', '_instance_is_a_changed', '_name', '_set_is_instance_of', 'differents', 'generate_default_name', 'get_equivalent_to', 'get_inverse_properties', 'get_iri', 'get_name', 'get_properties', 'hasOBONamespace', 'id', 'iri', 'is_a', 'is_instance_of', 'label', 'name', 'namespace', 'set_equivalent_to', 'set_iri', 'set_name', 'storid']\n",
      "obo.OBCI_8000011\n",
      "['INDIRECT_get_properties', '__class__', '__classcell__', '__delattr__', '__dict__', '__dir__', '__doc__', '__eq__', '__format__', '__ge__', '__getattr__', '__getattribute__', '__gt__', '__hash__', '__init__', '__init_subclass__', '__le__', '__lt__', '__module__', '__ne__', '__new__', '__reduce__', '__reduce_ex__', '__repr__', '__setattr__', '__sizeof__', '__str__', '__subclasshook__', '__weakref__', '_equivalent_to', '_get_instance_possible_relations', '_get_is_instance_of', '_instance_equivalent_to_changed', '_instance_is_a_changed', '_name', '_set_is_instance_of', 'differents', 'generate_default_name', 'get_equivalent_to', 'get_inverse_properties', 'get_iri', 'get_name', 'get_properties', 'hasOBONamespace', 'id', 'iri', 'is_a', 'is_instance_of', 'label', 'name', 'namespace', 'set_equivalent_to', 'set_iri', 'set_name', 'storid']\n",
      "obo.OBCI_8000007\n",
      "['INDIRECT_get_properties', '__class__', '__classcell__', '__delattr__', '__dict__', '__dir__', '__doc__', '__eq__', '__format__', '__ge__', '__getattr__', '__getattribute__', '__gt__', '__hash__', '__init__', '__init_subclass__', '__le__', '__lt__', '__module__', '__ne__', '__new__', '__reduce__', '__reduce_ex__', '__repr__', '__setattr__', '__sizeof__', '__str__', '__subclasshook__', '__weakref__', '_equivalent_to', '_get_instance_possible_relations', '_get_is_instance_of', '_instance_equivalent_to_changed', '_instance_is_a_changed', '_name', '_set_is_instance_of', 'differents', 'generate_default_name', 'get_equivalent_to', 'get_inverse_properties', 'get_iri', 'get_name', 'get_properties', 'hasOBONamespace', 'id', 'iri', 'is_a', 'is_instance_of', 'label', 'name', 'namespace', 'set_equivalent_to', 'set_iri', 'set_name', 'storid']\n",
      "obo.OBCI_8000001\n",
      "['INDIRECT_get_properties', '__class__', '__classcell__', '__delattr__', '__dict__', '__dir__', '__doc__', '__eq__', '__format__', '__ge__', '__getattr__', '__getattribute__', '__gt__', '__hash__', '__init__', '__init_subclass__', '__le__', '__lt__', '__module__', '__ne__', '__new__', '__reduce__', '__reduce_ex__', '__repr__', '__setattr__', '__sizeof__', '__str__', '__subclasshook__', '__weakref__', '_equivalent_to', '_get_instance_possible_relations', '_get_is_instance_of', '_instance_equivalent_to_changed', '_instance_is_a_changed', '_name', '_set_is_instance_of', 'differents', 'generate_default_name', 'get_equivalent_to', 'get_inverse_properties', 'get_iri', 'get_name', 'get_properties', 'hasOBONamespace', 'id', 'iri', 'is_a', 'is_instance_of', 'label', 'name', 'namespace', 'set_equivalent_to', 'set_iri', 'set_name', 'storid']\n",
      "obo.OBCI_8000010\n",
      "['INDIRECT_get_properties', '__class__', '__classcell__', '__delattr__', '__dict__', '__dir__', '__doc__', '__eq__', '__format__', '__ge__', '__getattr__', '__getattribute__', '__gt__', '__hash__', '__init__', '__init_subclass__', '__le__', '__lt__', '__module__', '__ne__', '__new__', '__reduce__', '__reduce_ex__', '__repr__', '__setattr__', '__sizeof__', '__str__', '__subclasshook__', '__weakref__', '_equivalent_to', '_get_instance_possible_relations', '_get_is_instance_of', '_instance_equivalent_to_changed', '_instance_is_a_changed', '_name', '_set_is_instance_of', 'differents', 'generate_default_name', 'get_equivalent_to', 'get_inverse_properties', 'get_iri', 'get_name', 'get_properties', 'hasOBONamespace', 'id', 'iri', 'is_a', 'is_instance_of', 'label', 'name', 'namespace', 'set_equivalent_to', 'set_iri', 'set_name', 'storid']\n",
      "obo.OBCI_8000012\n",
      "['INDIRECT_get_properties', '__class__', '__classcell__', '__delattr__', '__dict__', '__dir__', '__doc__', '__eq__', '__format__', '__ge__', '__getattr__', '__getattribute__', '__gt__', '__hash__', '__init__', '__init_subclass__', '__le__', '__lt__', '__module__', '__ne__', '__new__', '__reduce__', '__reduce_ex__', '__repr__', '__setattr__', '__sizeof__', '__str__', '__subclasshook__', '__weakref__', '_equivalent_to', '_get_instance_possible_relations', '_get_is_instance_of', '_instance_equivalent_to_changed', '_instance_is_a_changed', '_name', '_set_is_instance_of', 'differents', 'generate_default_name', 'get_equivalent_to', 'get_inverse_properties', 'get_iri', 'get_name', 'get_properties', 'hasOBONamespace', 'id', 'iri', 'is_a', 'is_instance_of', 'label', 'name', 'namespace', 'set_equivalent_to', 'set_iri', 'set_name', 'storid']\n"
     ]
    }
   ],
   "source": [
    "for individual in onto.individuals():\n",
    "    print(individual)\n",
    "    print(dir(individual))"
   ]
  },
  {
   "cell_type": "markdown",
   "metadata": {},
   "source": [
    "# DOID Owl\n"
   ]
  },
  {
   "cell_type": "markdown",
   "metadata": {},
   "source": [
    "## OwlReady2"
   ]
  },
  {
   "cell_type": "code",
   "execution_count": 8,
   "metadata": {},
   "outputs": [],
   "source": [
    "doid_onto = get_ontology('../owl_files/doid.owl').load(format = 'rdfxml')"
   ]
  },
  {
   "cell_type": "markdown",
   "metadata": {},
   "source": [
    "### Classes"
   ]
  },
  {
   "cell_type": "code",
   "execution_count": 9,
   "metadata": {},
   "outputs": [],
   "source": [
    "functions.or2_explore_classes(output_file = '../output_files/doid_owl/classes.txt', classes = doid_onto.classes())\n",
    "functions.or2_explore_classes(output_file = '../output_files/doid_owl/classes.csv', classes = doid_onto.classes())"
   ]
  },
  {
   "cell_type": "markdown",
   "metadata": {},
   "source": [
    "### Ontology Properties"
   ]
  },
  {
   "cell_type": "code",
   "execution_count": null,
   "metadata": {},
   "outputs": [],
   "source": [
    "# object properties\n",
    "functions.explore_properties(output_file = '../output_files/doid_owl/object_properties.txt', properties = doid_onto.object_properties(), property_type = 'object')\n",
    "functions.explore_properties(output_file = '../output_files/doid_owl/object_properties.csv', properties = doid_onto.object_properties(), property_type = 'object')"
   ]
  },
  {
   "cell_type": "code",
   "execution_count": 3,
   "metadata": {},
   "outputs": [],
   "source": [
    "# data properties \n",
    "functions.explore_properties(output_file = '../output_files/doid_owl/data_properties.txt', properties = doid_onto.data_properties(), property_type = 'data')\n",
    "functions.explore_properties(output_file = '../output_files/doid_owl/data_properties.csv', properties = doid_onto.data_properties(), property_type = 'data')"
   ]
  },
  {
   "cell_type": "code",
   "execution_count": null,
   "metadata": {},
   "outputs": [],
   "source": [
    "# annotation properties \n",
    "functions.explore_properties(output_file = '../output_files/doid_owl/annotation_properties.txt', properties = doid_onto.annotation_properties(), property_type = 'annotation')\n",
    "functions.explore_properties(output_file = '../output_files/doid_owl/annotation_properties.csv', properties = doid_onto.annotation_properties(), property_type = 'annotation')"
   ]
  },
  {
   "cell_type": "code",
   "execution_count": null,
   "metadata": {},
   "outputs": [],
   "source": [
    "# all properties \n",
    "functions.explore_properties(output_file = '../output_files/doid_owl/properties.txt', properties = doid_onto.properties(), property_type = 'all')\n",
    "functions.explore_properties(output_file = '../output_files/doid_owl/properties.csv', properties = doid_onto.properties(), property_type = 'all')"
   ]
  },
  {
   "cell_type": "code",
   "execution_count": null,
   "metadata": {},
   "outputs": [],
   "source": [
    "for prop in doid_onto.annotation_properties"
   ]
  }
 ],
 "metadata": {
  "kernelspec": {
   "display_name": "Python 3",
   "language": "python",
   "name": "python3"
  },
  "language_info": {
   "codemirror_mode": {
    "name": "ipython",
    "version": 3
   },
   "file_extension": ".py",
   "mimetype": "text/x-python",
   "name": "python",
   "nbconvert_exporter": "python",
   "pygments_lexer": "ipython3",
   "version": "3.10.12"
  }
 },
 "nbformat": 4,
 "nbformat_minor": 2
}
