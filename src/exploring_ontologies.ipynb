{
 "cells": [
  {
   "cell_type": "code",
   "execution_count": 1,
   "metadata": {},
   "outputs": [],
   "source": [
    "import rdflib \n",
    "from owlready2 import *\n",
    "import re\n",
    "import functions as functions "
   ]
  },
  {
   "cell_type": "markdown",
   "metadata": {},
   "source": [
    "# OBCI Owl\n"
   ]
  },
  {
   "cell_type": "markdown",
   "metadata": {},
   "source": [
    "## OwlReady2"
   ]
  },
  {
   "cell_type": "code",
   "execution_count": 3,
   "metadata": {},
   "outputs": [],
   "source": [
    "# for some reason this fails on first run, if you run it again it'll work properly, havne't looked into that yet\n",
    "obci_onto = get_ontology('../owl_files/obci.owl').load(format = 'rdfxml')"
   ]
  },
  {
   "cell_type": "markdown",
   "metadata": {},
   "source": [
    "### Classes"
   ]
  },
  {
   "cell_type": "code",
   "execution_count": 4,
   "metadata": {},
   "outputs": [],
   "source": [
    "def get_id(cls): \n",
    "    match = re.search(r'\\d+$', cls.name)\n",
    "    return int(match.group()) if match else 0\n",
    "\n",
    "sorted_classes = sorted(obci_onto.classes(), key = get_id)\n",
    "functions.or2_explore_classes(output_file = '../output_files/obci_owl/classes.txt', classes = sorted_classes)\n",
    "functions.or2_explore_classes(output_file = '../output_files/obci_owl/classes.csv', classes = sorted_classes)"
   ]
  },
  {
   "cell_type": "markdown",
   "metadata": {},
   "source": [
    "### Ontology Properties"
   ]
  },
  {
   "cell_type": "code",
   "execution_count": 5,
   "metadata": {},
   "outputs": [],
   "source": [
    "# object properties\n",
    "functions.explore_properties(output_file = '../output_files/obci_owl/object_properties.txt', properties = obci_onto.object_properties(), property_type = 'object')\n",
    "functions.explore_properties(output_file = '../output_files/obci_owl/object_properties.csv', properties = obci_onto.object_properties(), property_type = 'object')"
   ]
  },
  {
   "cell_type": "code",
   "execution_count": 6,
   "metadata": {},
   "outputs": [],
   "source": [
    "# data properties \n",
    "functions.explore_properties(output_file = '../output_files/obci_owl/data_properties.txt', properties = obci_onto.data_properties(), property_type = 'data')\n",
    "functions.explore_properties(output_file = '../output_files/obci_owl/data_properties.csv', properties = obci_onto.data_properties(), property_type = 'data')"
   ]
  },
  {
   "cell_type": "code",
   "execution_count": 7,
   "metadata": {},
   "outputs": [],
   "source": [
    "# annotation properties\n",
    "functions.explore_properties(output_file = '../output_files/obci_owl/annotation_properties.txt', properties = obci_onto.annotation_properties(), property_type = 'annotation')\n",
    "functions.explore_properties(output_file = '../output_files/obci_owl/annotation_properties.csv', properties = obci_onto.annotation_properties(), property_type = 'annotation')"
   ]
  },
  {
   "cell_type": "code",
   "execution_count": 7,
   "metadata": {},
   "outputs": [],
   "source": [
    "# all properties\n",
    "functions.explore_properties(output_file = '../output_files/obci_owl/properties.txt', properties = obci_onto.properties(), property_type = 'all')\n",
    "functions.explore_properties(output_file = '../output_files/obci_owl/properties.csv', properties = obci_onto.properties(), property_type = 'all')\n"
   ]
  },
  {
   "cell_type": "markdown",
   "metadata": {},
   "source": [
    "### Individuals"
   ]
  },
  {
   "cell_type": "code",
   "execution_count": 5,
   "metadata": {},
   "outputs": [],
   "source": [
    "functions.explore_individuals(output_file = '../output_files/obci_owl/individuals.txt', individuals = obci_onto.individuals())\n",
    "functions.explore_individuals(output_file = '../output_files/obci_owl/individuals.csv', individuals = obci_onto.individuals())"
   ]
  },
  {
   "cell_type": "code",
   "execution_count": 17,
   "metadata": {},
   "outputs": [
    {
     "name": "stdout",
     "output_type": "stream",
     "text": [
      "obo.OBCI_8000002\n",
      "['diagnostic (BEST)']\n",
      "OBCI_8000002\n",
      "http://purl.obolibrary.org/obo/OBCI_8000002\n"
     ]
    },
    {
     "ename": "AttributeError",
     "evalue": "'properties' property is not defined.",
     "output_type": "error",
     "traceback": [
      "\u001b[0;31m---------------------------------------------------------------------------\u001b[0m",
      "\u001b[0;31mAttributeError\u001b[0m                            Traceback (most recent call last)",
      "\u001b[1;32m/home/seank/projects/hive/owl-tester/src/exploring_ontologies.ipynb Cell 13\u001b[0m line \u001b[0;36m6\n\u001b[1;32m      <a href='vscode-notebook-cell://wsl%2Bubuntu/home/seank/projects/hive/owl-tester/src/exploring_ontologies.ipynb#X16sdnNjb2RlLXJlbW90ZQ%3D%3D?line=3'>4</a>\u001b[0m \u001b[39mprint\u001b[39m(individual\u001b[39m.\u001b[39mname)\n\u001b[1;32m      <a href='vscode-notebook-cell://wsl%2Bubuntu/home/seank/projects/hive/owl-tester/src/exploring_ontologies.ipynb#X16sdnNjb2RlLXJlbW90ZQ%3D%3D?line=4'>5</a>\u001b[0m \u001b[39mprint\u001b[39m(individual\u001b[39m.\u001b[39miri)\n\u001b[0;32m----> <a href='vscode-notebook-cell://wsl%2Bubuntu/home/seank/projects/hive/owl-tester/src/exploring_ontologies.ipynb#X16sdnNjb2RlLXJlbW90ZQ%3D%3D?line=5'>6</a>\u001b[0m \u001b[39mprint\u001b[39m(individual\u001b[39m.\u001b[39;49mproperties())\n",
      "File \u001b[0;32m~/.local/lib/python3.10/site-packages/owlready2/individual.py:295\u001b[0m, in \u001b[0;36mThing.__getattr__\u001b[0;34m(self, attr)\u001b[0m\n\u001b[1;32m    293\u001b[0m \u001b[39mif\u001b[39;00m \u001b[39mnot\u001b[39;00m Prop:\n\u001b[1;32m    294\u001b[0m   \u001b[39mif\u001b[39;00m attr \u001b[39m==\u001b[39m \u001b[39m\"\u001b[39m\u001b[39mequivalent_to\u001b[39m\u001b[39m\"\u001b[39m: \u001b[39mreturn\u001b[39;00m \u001b[39mself\u001b[39m\u001b[39m.\u001b[39mget_equivalent_to() \u001b[39m# Needed\u001b[39;00m\n\u001b[0;32m--> 295\u001b[0m   \u001b[39mraise\u001b[39;00m \u001b[39mAttributeError\u001b[39;00m(\u001b[39m\"\u001b[39m\u001b[39m'\u001b[39m\u001b[39m%s\u001b[39;00m\u001b[39m'\u001b[39m\u001b[39m property is not defined.\u001b[39m\u001b[39m\"\u001b[39m \u001b[39m%\u001b[39m attr)\n\u001b[1;32m    296\u001b[0m \u001b[39mif\u001b[39;00m Prop\u001b[39m.\u001b[39mis_functional_for(\u001b[39mself\u001b[39m\u001b[39m.\u001b[39m\u001b[39m__class__\u001b[39m): \u001b[39mself\u001b[39m\u001b[39m.\u001b[39m\u001b[39m__dict__\u001b[39m[attr] \u001b[39m=\u001b[39m r \u001b[39m=\u001b[39m Prop\u001b[39m.\u001b[39m_get_value_for_individual (\u001b[39mself\u001b[39m)\n\u001b[1;32m    297\u001b[0m \u001b[39melse\u001b[39;00m:                                      \u001b[39mself\u001b[39m\u001b[39m.\u001b[39m\u001b[39m__dict__\u001b[39m[attr] \u001b[39m=\u001b[39m r \u001b[39m=\u001b[39m Prop\u001b[39m.\u001b[39m_get_values_for_individual(\u001b[39mself\u001b[39m)\n",
      "\u001b[0;31mAttributeError\u001b[0m: 'properties' property is not defined."
     ]
    }
   ],
   "source": [
    "for individual in obci_onto.individuals():\n",
    "    print(individual)\n",
    "    print(individual.label)\n",
    "    print(individual.name)\n",
    "    print(individual.iri)\n",
    "    print(individual.properties())"
   ]
  },
  {
   "cell_type": "markdown",
   "metadata": {},
   "source": [
    "# DOID Owl\n"
   ]
  },
  {
   "cell_type": "markdown",
   "metadata": {},
   "source": [
    "## OwlReady2"
   ]
  },
  {
   "cell_type": "code",
   "execution_count": 8,
   "metadata": {},
   "outputs": [],
   "source": [
    "doid_onto = get_ontology('../owl_files/doid.owl').load(format = 'rdfxml')"
   ]
  },
  {
   "cell_type": "markdown",
   "metadata": {},
   "source": [
    "### Classes"
   ]
  },
  {
   "cell_type": "code",
   "execution_count": 9,
   "metadata": {},
   "outputs": [],
   "source": [
    "functions.or2_explore_classes(output_file = '../output_files/doid_owl/classes.txt', classes = doid_onto.classes())\n",
    "functions.or2_explore_classes(output_file = '../output_files/doid_owl/classes.csv', classes = doid_onto.classes())"
   ]
  },
  {
   "cell_type": "markdown",
   "metadata": {},
   "source": [
    "### Ontology Properties"
   ]
  },
  {
   "cell_type": "code",
   "execution_count": null,
   "metadata": {},
   "outputs": [],
   "source": [
    "# object properties\n",
    "functions.explore_properties(output_file = '../output_files/doid_owl/object_properties.txt', properties = doid_onto.object_properties(), property_type = 'object')\n",
    "functions.explore_properties(output_file = '../output_files/doid_owl/object_properties.csv', properties = doid_onto.object_properties(), property_type = 'object')"
   ]
  },
  {
   "cell_type": "code",
   "execution_count": 3,
   "metadata": {},
   "outputs": [],
   "source": [
    "# data properties \n",
    "functions.explore_properties(output_file = '../output_files/doid_owl/data_properties.txt', properties = doid_onto.data_properties(), property_type = 'data')\n",
    "functions.explore_properties(output_file = '../output_files/doid_owl/data_properties.csv', properties = doid_onto.data_properties(), property_type = 'data')"
   ]
  },
  {
   "cell_type": "code",
   "execution_count": 10,
   "metadata": {},
   "outputs": [],
   "source": [
    "# annotation properties \n",
    "functions.explore_properties(output_file = '../output_files/doid_owl/annotation_properties.txt', properties = doid_onto.annotation_properties(), property_type = 'annotation')\n",
    "functions.explore_properties(output_file = '../output_files/doid_owl/annotation_properties.csv', properties = doid_onto.annotation_properties(), property_type = 'annotation')"
   ]
  },
  {
   "cell_type": "code",
   "execution_count": null,
   "metadata": {},
   "outputs": [],
   "source": [
    "# all properties \n",
    "functions.explore_properties(output_file = '../output_files/doid_owl/properties.txt', properties = doid_onto.properties(), property_type = 'all')\n",
    "functions.explore_properties(output_file = '../output_files/doid_owl/properties.csv', properties = doid_onto.properties(), property_type = 'all')"
   ]
  },
  {
   "cell_type": "markdown",
   "metadata": {},
   "source": [
    "### Individuals "
   ]
  },
  {
   "cell_type": "code",
   "execution_count": null,
   "metadata": {},
   "outputs": [],
   "source": [
    "functions.explore_individuals(output_file = '../output_files/doid_owl/individuals.txt', individuals = doid_onto.individuals())\n",
    "functions.explore_individuals(output_file = '../output_files/doid_owl/individuals.csv', individuals = doid_onto.individuals())"
   ]
  }
 ],
 "metadata": {
  "kernelspec": {
   "display_name": "Python 3",
   "language": "python",
   "name": "python3"
  },
  "language_info": {
   "codemirror_mode": {
    "name": "ipython",
    "version": 3
   },
   "file_extension": ".py",
   "mimetype": "text/x-python",
   "name": "python",
   "nbconvert_exporter": "python",
   "pygments_lexer": "ipython3",
   "version": "3.10.12"
  }
 },
 "nbformat": 4,
 "nbformat_minor": 2
}
