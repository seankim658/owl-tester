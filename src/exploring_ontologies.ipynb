{
 "cells": [
  {
   "cell_type": "code",
   "execution_count": 1,
   "metadata": {},
   "outputs": [],
   "source": [
    "import rdflib \n",
    "from owlready2 import *\n",
    "import re\n",
    "import functions as functions "
   ]
  },
  {
   "cell_type": "markdown",
   "metadata": {},
   "source": [
    "# General Exploration"
   ]
  },
  {
   "cell_type": "code",
   "execution_count": 26,
   "metadata": {},
   "outputs": [],
   "source": [
    "def explore_classes(output_file: str, classes: list) -> None:\n",
    "    with open(output_file, 'w') as f:\n",
    "        for cls in classes:\n",
    "            f.write(f'CLASS: {cls}\\n')\n",
    "            f.write(f'\\tNAME: {cls.name}\\n')\n",
    "            f.write(f'\\tNAMESPACE: {cls.namespace}\\n')\n",
    "            f.write(f'\\tLABEL: {cls.label[0]}\\n')\n",
    "            f.write(f'\\tPARENT: {cls.is_a[0]}\\n')\n",
    "            f.write(f'\\tIRI: {cls.iri}\\n')\n",
    "            f.write(f'\\tIS_INSTANCE_OF: {cls.is_instance_of}\\n')\n",
    "            f.write(f'\\tSTORID: {cls.storid}\\n')\n",
    "            f.write(f'\\tANNOTATION(S):\\n')\n",
    "            for idx, annotation in enumerate(cls.comment):\n",
    "                f.write(f'\\t\\tAnnotation #{idx + 1}: {annotation}\\n')\n",
    "            f.write(f'\\n')\n",
    "\n",
    "def explore_properties(output_file: str, properties: list, property_type: str) -> None:\n",
    "    with open(output_file, 'w') as f:\n",
    "        for property in properties:\n",
    "            f.write(f'{property_type.upper()} PROPERTY: {property}\\n')\n",
    "            f.write(f'\\tLABEL: {property.label[0]}\\n')\n",
    "            f.write(f'\\tIRI: {property.iri}\\n\\n')\n",
    "\n",
    "def explore_individuals(output_file: str, individuals: list) -> None:\n",
    "    with open(output_file, 'w') as f:\n",
    "        for individual in individuals:\n",
    "            f.write(f'{individual}')"
   ]
  },
  {
   "cell_type": "markdown",
   "metadata": {},
   "source": [
    "# OBCI Owl\n"
   ]
  },
  {
   "cell_type": "markdown",
   "metadata": {},
   "source": [
    "## OwlReady2"
   ]
  },
  {
   "cell_type": "code",
   "execution_count": 5,
   "metadata": {},
   "outputs": [],
   "source": [
    "onto = get_ontology('./owl_files/obci.owl').load(format = 'rdfxml')"
   ]
  },
  {
   "cell_type": "markdown",
   "metadata": {},
   "source": [
    "### Classes"
   ]
  },
  {
   "cell_type": "code",
   "execution_count": 6,
   "metadata": {},
   "outputs": [
    {
     "name": "stdout",
     "output_type": "stream",
     "text": [
      "['_equivalent_to', '_name', 'iri', 'is_a', 'is_instance_of', 'name', 'namespace', 'storid']\n"
     ]
    }
   ],
   "source": [
    "# see what is available to explore\n",
    "class_example = next(onto.classes())\n",
    "class_attributes = dir(class_example)\n",
    "class_dot_access_attributes = [attr for attr in class_attributes if not (attr.startswith('__') or callable(getattr(class_example, attr)))]\n",
    "print(class_dot_access_attributes)"
   ]
  },
  {
   "cell_type": "code",
   "execution_count": 7,
   "metadata": {},
   "outputs": [],
   "source": [
    "def get_id(cls): \n",
    "    match = re.search(r'\\d+$', cls.name)\n",
    "    return int(match.group()) if match else 0\n",
    "\n",
    "sorted_classes = sorted(onto.classes(), key = get_id)\n",
    "# explore_classes(output_file = './output_files/obci_owl/classes.txt', classes = sorted_classes)\n",
    "functions.or2_explore_classes(output_file = './output_files/obci_owl/classes.txt', classes = sorted_classes)"
   ]
  },
  {
   "cell_type": "markdown",
   "metadata": {},
   "source": [
    "### Ontology Properties"
   ]
  },
  {
   "cell_type": "code",
   "execution_count": 26,
   "metadata": {},
   "outputs": [],
   "source": [
    "explore_properties(output_file = './output_files/obci_owl/object_properties.txt', properties = onto.object_properties(), property_type = 'object')"
   ]
  },
  {
   "cell_type": "code",
   "execution_count": 27,
   "metadata": {},
   "outputs": [],
   "source": [
    "explore_properties(output_file = './output_files/obci_owl/data_properties.txt', properties = onto.data_properties(), property_type = 'data')"
   ]
  },
  {
   "cell_type": "markdown",
   "metadata": {},
   "source": [
    "### Individuals"
   ]
  },
  {
   "cell_type": "code",
   "execution_count": 11,
   "metadata": {},
   "outputs": [
    {
     "name": "stdout",
     "output_type": "stream",
     "text": [
      "obo.OBCI_8000002\n",
      "['INDIRECT_get_properties', '__class__', '__classcell__', '__delattr__', '__dict__', '__dir__', '__doc__', '__eq__', '__format__', '__ge__', '__getattr__', '__getattribute__', '__gt__', '__hash__', '__init__', '__init_subclass__', '__le__', '__lt__', '__module__', '__ne__', '__new__', '__reduce__', '__reduce_ex__', '__repr__', '__setattr__', '__sizeof__', '__str__', '__subclasshook__', '__weakref__', '_equivalent_to', '_get_instance_possible_relations', '_get_is_instance_of', '_instance_equivalent_to_changed', '_instance_is_a_changed', '_name', '_set_is_instance_of', 'differents', 'generate_default_name', 'get_equivalent_to', 'get_inverse_properties', 'get_iri', 'get_name', 'get_properties', 'hasOBONamespace', 'id', 'iri', 'is_a', 'is_instance_of', 'label', 'name', 'namespace', 'set_equivalent_to', 'set_iri', 'set_name', 'storid']\n",
      "obo.OBCI_8000008\n",
      "['INDIRECT_get_properties', '__class__', '__classcell__', '__delattr__', '__dict__', '__dir__', '__doc__', '__eq__', '__format__', '__ge__', '__getattr__', '__getattribute__', '__gt__', '__hash__', '__init__', '__init_subclass__', '__le__', '__lt__', '__module__', '__ne__', '__new__', '__reduce__', '__reduce_ex__', '__repr__', '__setattr__', '__sizeof__', '__str__', '__subclasshook__', '__weakref__', '_equivalent_to', '_get_instance_possible_relations', '_get_is_instance_of', '_instance_equivalent_to_changed', '_instance_is_a_changed', '_name', '_set_is_instance_of', 'differents', 'generate_default_name', 'get_equivalent_to', 'get_inverse_properties', 'get_iri', 'get_name', 'get_properties', 'hasOBONamespace', 'id', 'iri', 'is_a', 'is_instance_of', 'label', 'name', 'namespace', 'set_equivalent_to', 'set_iri', 'set_name', 'storid']\n",
      "obo.OBCI_8000003\n",
      "['INDIRECT_get_properties', '__class__', '__classcell__', '__delattr__', '__dict__', '__dir__', '__doc__', '__eq__', '__format__', '__ge__', '__getattr__', '__getattribute__', '__gt__', '__hash__', '__init__', '__init_subclass__', '__le__', '__lt__', '__module__', '__ne__', '__new__', '__reduce__', '__reduce_ex__', '__repr__', '__setattr__', '__sizeof__', '__str__', '__subclasshook__', '__weakref__', '_equivalent_to', '_get_instance_possible_relations', '_get_is_instance_of', '_instance_equivalent_to_changed', '_instance_is_a_changed', '_name', '_set_is_instance_of', 'differents', 'generate_default_name', 'get_equivalent_to', 'get_inverse_properties', 'get_iri', 'get_name', 'get_properties', 'hasOBONamespace', 'id', 'iri', 'is_a', 'is_instance_of', 'label', 'name', 'namespace', 'set_equivalent_to', 'set_iri', 'set_name', 'storid']\n",
      "obo.OBCI_8000006\n",
      "['INDIRECT_get_properties', '__class__', '__classcell__', '__delattr__', '__dict__', '__dir__', '__doc__', '__eq__', '__format__', '__ge__', '__getattr__', '__getattribute__', '__gt__', '__hash__', '__init__', '__init_subclass__', '__le__', '__lt__', '__module__', '__ne__', '__new__', '__reduce__', '__reduce_ex__', '__repr__', '__setattr__', '__sizeof__', '__str__', '__subclasshook__', '__weakref__', '_equivalent_to', '_get_instance_possible_relations', '_get_is_instance_of', '_instance_equivalent_to_changed', '_instance_is_a_changed', '_name', '_set_is_instance_of', 'differents', 'generate_default_name', 'get_equivalent_to', 'get_inverse_properties', 'get_iri', 'get_name', 'get_properties', 'hasOBONamespace', 'id', 'iri', 'is_a', 'is_instance_of', 'label', 'name', 'namespace', 'set_equivalent_to', 'set_iri', 'set_name', 'storid']\n",
      "obo.OBCI_8000005\n",
      "['INDIRECT_get_properties', '__class__', '__classcell__', '__delattr__', '__dict__', '__dir__', '__doc__', '__eq__', '__format__', '__ge__', '__getattr__', '__getattribute__', '__gt__', '__hash__', '__init__', '__init_subclass__', '__le__', '__lt__', '__module__', '__ne__', '__new__', '__reduce__', '__reduce_ex__', '__repr__', '__setattr__', '__sizeof__', '__str__', '__subclasshook__', '__weakref__', '_equivalent_to', '_get_instance_possible_relations', '_get_is_instance_of', '_instance_equivalent_to_changed', '_instance_is_a_changed', '_name', '_set_is_instance_of', 'differents', 'generate_default_name', 'get_equivalent_to', 'get_inverse_properties', 'get_iri', 'get_name', 'get_properties', 'hasOBONamespace', 'id', 'iri', 'is_a', 'is_instance_of', 'label', 'name', 'namespace', 'set_equivalent_to', 'set_iri', 'set_name', 'storid']\n",
      "obo.OBCI_8000009\n",
      "['INDIRECT_get_properties', '__class__', '__classcell__', '__delattr__', '__dict__', '__dir__', '__doc__', '__eq__', '__format__', '__ge__', '__getattr__', '__getattribute__', '__gt__', '__hash__', '__init__', '__init_subclass__', '__le__', '__lt__', '__module__', '__ne__', '__new__', '__reduce__', '__reduce_ex__', '__repr__', '__setattr__', '__sizeof__', '__str__', '__subclasshook__', '__weakref__', '_equivalent_to', '_get_instance_possible_relations', '_get_is_instance_of', '_instance_equivalent_to_changed', '_instance_is_a_changed', '_name', '_set_is_instance_of', 'differents', 'generate_default_name', 'get_equivalent_to', 'get_inverse_properties', 'get_iri', 'get_name', 'get_properties', 'hasOBONamespace', 'id', 'iri', 'is_a', 'is_instance_of', 'label', 'name', 'namespace', 'set_equivalent_to', 'set_iri', 'set_name', 'storid']\n",
      "obo.OBCI_8000004\n",
      "['INDIRECT_get_properties', '__class__', '__classcell__', '__delattr__', '__dict__', '__dir__', '__doc__', '__eq__', '__format__', '__ge__', '__getattr__', '__getattribute__', '__gt__', '__hash__', '__init__', '__init_subclass__', '__le__', '__lt__', '__module__', '__ne__', '__new__', '__reduce__', '__reduce_ex__', '__repr__', '__setattr__', '__sizeof__', '__str__', '__subclasshook__', '__weakref__', '_equivalent_to', '_get_instance_possible_relations', '_get_is_instance_of', '_instance_equivalent_to_changed', '_instance_is_a_changed', '_name', '_set_is_instance_of', 'differents', 'generate_default_name', 'get_equivalent_to', 'get_inverse_properties', 'get_iri', 'get_name', 'get_properties', 'hasOBONamespace', 'id', 'iri', 'is_a', 'is_instance_of', 'label', 'name', 'namespace', 'set_equivalent_to', 'set_iri', 'set_name', 'storid']\n",
      "obo.OBCI_8000011\n",
      "['INDIRECT_get_properties', '__class__', '__classcell__', '__delattr__', '__dict__', '__dir__', '__doc__', '__eq__', '__format__', '__ge__', '__getattr__', '__getattribute__', '__gt__', '__hash__', '__init__', '__init_subclass__', '__le__', '__lt__', '__module__', '__ne__', '__new__', '__reduce__', '__reduce_ex__', '__repr__', '__setattr__', '__sizeof__', '__str__', '__subclasshook__', '__weakref__', '_equivalent_to', '_get_instance_possible_relations', '_get_is_instance_of', '_instance_equivalent_to_changed', '_instance_is_a_changed', '_name', '_set_is_instance_of', 'differents', 'generate_default_name', 'get_equivalent_to', 'get_inverse_properties', 'get_iri', 'get_name', 'get_properties', 'hasOBONamespace', 'id', 'iri', 'is_a', 'is_instance_of', 'label', 'name', 'namespace', 'set_equivalent_to', 'set_iri', 'set_name', 'storid']\n",
      "obo.OBCI_8000007\n",
      "['INDIRECT_get_properties', '__class__', '__classcell__', '__delattr__', '__dict__', '__dir__', '__doc__', '__eq__', '__format__', '__ge__', '__getattr__', '__getattribute__', '__gt__', '__hash__', '__init__', '__init_subclass__', '__le__', '__lt__', '__module__', '__ne__', '__new__', '__reduce__', '__reduce_ex__', '__repr__', '__setattr__', '__sizeof__', '__str__', '__subclasshook__', '__weakref__', '_equivalent_to', '_get_instance_possible_relations', '_get_is_instance_of', '_instance_equivalent_to_changed', '_instance_is_a_changed', '_name', '_set_is_instance_of', 'differents', 'generate_default_name', 'get_equivalent_to', 'get_inverse_properties', 'get_iri', 'get_name', 'get_properties', 'hasOBONamespace', 'id', 'iri', 'is_a', 'is_instance_of', 'label', 'name', 'namespace', 'set_equivalent_to', 'set_iri', 'set_name', 'storid']\n",
      "obo.OBCI_8000001\n",
      "['INDIRECT_get_properties', '__class__', '__classcell__', '__delattr__', '__dict__', '__dir__', '__doc__', '__eq__', '__format__', '__ge__', '__getattr__', '__getattribute__', '__gt__', '__hash__', '__init__', '__init_subclass__', '__le__', '__lt__', '__module__', '__ne__', '__new__', '__reduce__', '__reduce_ex__', '__repr__', '__setattr__', '__sizeof__', '__str__', '__subclasshook__', '__weakref__', '_equivalent_to', '_get_instance_possible_relations', '_get_is_instance_of', '_instance_equivalent_to_changed', '_instance_is_a_changed', '_name', '_set_is_instance_of', 'differents', 'generate_default_name', 'get_equivalent_to', 'get_inverse_properties', 'get_iri', 'get_name', 'get_properties', 'hasOBONamespace', 'id', 'iri', 'is_a', 'is_instance_of', 'label', 'name', 'namespace', 'set_equivalent_to', 'set_iri', 'set_name', 'storid']\n",
      "obo.OBCI_8000010\n",
      "['INDIRECT_get_properties', '__class__', '__classcell__', '__delattr__', '__dict__', '__dir__', '__doc__', '__eq__', '__format__', '__ge__', '__getattr__', '__getattribute__', '__gt__', '__hash__', '__init__', '__init_subclass__', '__le__', '__lt__', '__module__', '__ne__', '__new__', '__reduce__', '__reduce_ex__', '__repr__', '__setattr__', '__sizeof__', '__str__', '__subclasshook__', '__weakref__', '_equivalent_to', '_get_instance_possible_relations', '_get_is_instance_of', '_instance_equivalent_to_changed', '_instance_is_a_changed', '_name', '_set_is_instance_of', 'differents', 'generate_default_name', 'get_equivalent_to', 'get_inverse_properties', 'get_iri', 'get_name', 'get_properties', 'hasOBONamespace', 'id', 'iri', 'is_a', 'is_instance_of', 'label', 'name', 'namespace', 'set_equivalent_to', 'set_iri', 'set_name', 'storid']\n",
      "obo.OBCI_8000012\n",
      "['INDIRECT_get_properties', '__class__', '__classcell__', '__delattr__', '__dict__', '__dir__', '__doc__', '__eq__', '__format__', '__ge__', '__getattr__', '__getattribute__', '__gt__', '__hash__', '__init__', '__init_subclass__', '__le__', '__lt__', '__module__', '__ne__', '__new__', '__reduce__', '__reduce_ex__', '__repr__', '__setattr__', '__sizeof__', '__str__', '__subclasshook__', '__weakref__', '_equivalent_to', '_get_instance_possible_relations', '_get_is_instance_of', '_instance_equivalent_to_changed', '_instance_is_a_changed', '_name', '_set_is_instance_of', 'differents', 'generate_default_name', 'get_equivalent_to', 'get_inverse_properties', 'get_iri', 'get_name', 'get_properties', 'hasOBONamespace', 'id', 'iri', 'is_a', 'is_instance_of', 'label', 'name', 'namespace', 'set_equivalent_to', 'set_iri', 'set_name', 'storid']\n"
     ]
    }
   ],
   "source": [
    "for individual in onto.individuals():\n",
    "    print(individual)\n",
    "    print(dir(individual))"
   ]
  }
 ],
 "metadata": {
  "kernelspec": {
   "display_name": "Python 3",
   "language": "python",
   "name": "python3"
  },
  "language_info": {
   "codemirror_mode": {
    "name": "ipython",
    "version": 3
   },
   "file_extension": ".py",
   "mimetype": "text/x-python",
   "name": "python",
   "nbconvert_exporter": "python",
   "pygments_lexer": "ipython3",
   "version": "3.10.12"
  }
 },
 "nbformat": 4,
 "nbformat_minor": 2
}
